{
 "cells": [
  {
   "cell_type": "code",
   "execution_count": null,
   "metadata": {},
   "outputs": [
    {
     "name": "stdout",
     "output_type": "stream",
     "text": [
      "['Hello', 'world', 'How', 'are', 'you', 'Testing', '1', '2', '3']\n"
     ]
    }
   ],
   "source": [
    "import re\n",
    "\n",
    "def split_into_words(text):\n",
    "    words = re.findall(r'\\w+', text)\n",
    "    return words\n",
    "\n",
    "text = \"Hello, world! How are you? Testing... 1,2,3\"\n",
    "word_list = split_into_words(text)\n",
    "print(word_list)"
   ]
  },
  {
   "cell_type": "code",
   "execution_count": 2,
   "metadata": {},
   "outputs": [
    {
     "name": "stdout",
     "output_type": "stream",
     "text": [
      "Hello world! How are you?\n"
     ]
    }
   ],
   "source": [
    "import re\n",
    "\n",
    "def remove_html_tags(text):\n",
    "    # Pattern explanation:\n",
    "    # < matches opening bracket\n",
    "    # .*? matches any characters (non-greedy)\n",
    "    # > matches closing bracket\n",
    "    clean_text = re.sub(r'<.*?>', '', text)\n",
    "    return clean_text\n",
    "\n",
    "# Test the function\n",
    "html_text = \"<p>Hello <b>world</b>! How <i>are</i> you?</p>\"\n",
    "cleaned = remove_html_tags(html_text)\n",
    "print(cleaned)\n",
    "# Output: \"Hello world! How are you?\""
   ]
  },
  {
   "cell_type": "code",
   "execution_count": null,
   "metadata": {},
   "outputs": [
    {
     "ename": "",
     "evalue": "",
     "output_type": "error",
     "traceback": [
      "\u001b[1;31mRunning cells with 'Python 3.13.1' requires the ipykernel package.\n",
      "\u001b[1;31mRun the following command to install 'ipykernel' into the Python environment. \n",
      "\u001b[1;31mCommand: '/usr/local/bin/python3 -m pip install ipykernel -U --user --force-reinstall'"
     ]
    }
   ],
   "source": [
    "print(\"hello world\")"
   ]
  }
 ],
 "metadata": {
  "kernelspec": {
   "display_name": "Python 3",
   "language": "python",
   "name": "python3"
  },
  "language_info": {
   "codemirror_mode": {
    "name": "ipython",
    "version": 3
   },
   "file_extension": ".py",
   "mimetype": "text/x-python",
   "name": "python",
   "nbconvert_exporter": "python",
   "pygments_lexer": "ipython3",
   "version": "3.11.11"
  }
 },
 "nbformat": 4,
 "nbformat_minor": 2
}
