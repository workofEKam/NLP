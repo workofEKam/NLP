{
 "cells": [
  {
   "cell_type": "code",
   "execution_count": null,
   "metadata": {},
   "outputs": [],
   "source": [
    "import PyPDF2"
   ]
  },
  {
   "cell_type": "code",
   "execution_count": 4,
   "metadata": {},
   "outputs": [],
   "source": [
    "myfile = open('US_Declaration.pdf', mode='rb')"
   ]
  },
  {
   "cell_type": "code",
   "execution_count": null,
   "metadata": {},
   "outputs": [],
   "source": [
    "pdf_reader = PyPDF2.PdfReader(myfile)"
   ]
  },
  {
   "cell_type": "code",
   "execution_count": 16,
   "metadata": {},
   "outputs": [],
   "source": [
    "pdf_one = pdf_reader.pages[0]"
   ]
  },
  {
   "cell_type": "code",
   "execution_count": 18,
   "metadata": {},
   "outputs": [],
   "source": [
    "pdf_write = PyPDF2.PdfWriter()\n",
    "pdf_write.add_page(pdf_one)\n",
    "pdf_output = open('MY_BRAND_NEW.pdf', mode='wb')\n"
   ]
  },
  {
   "cell_type": "code",
   "execution_count": 19,
   "metadata": {},
   "outputs": [
    {
     "data": {
      "text/plain": [
       "(False, <_io.BufferedWriter name='MY_BRAND_NEW.pdf'>)"
      ]
     },
     "execution_count": 19,
     "metadata": {},
     "output_type": "execute_result"
    }
   ],
   "source": [
    "pdf_write.write(pdf_output)"
   ]
  },
  {
   "cell_type": "code",
   "execution_count": 20,
   "metadata": {},
   "outputs": [],
   "source": [
    "myfile.close()"
   ]
  },
  {
   "cell_type": "code",
   "execution_count": 24,
   "metadata": {},
   "outputs": [],
   "source": [
    "myfile2 = open('MY_BRAND_NEW.pdf', mode='rb')\n",
    "\n"
   ]
  },
  {
   "cell_type": "code",
   "execution_count": 25,
   "metadata": {},
   "outputs": [
    {
     "ename": "PdfReadError",
     "evalue": "EOF marker not found",
     "output_type": "error",
     "traceback": [
      "\u001b[31m---------------------------------------------------------------------------\u001b[39m",
      "\u001b[31mPdfReadError\u001b[39m                              Traceback (most recent call last)",
      "\u001b[36mCell\u001b[39m\u001b[36m \u001b[39m\u001b[32mIn[25]\u001b[39m\u001b[32m, line 1\u001b[39m\n\u001b[32m----> \u001b[39m\u001b[32m1\u001b[39m pdf_reader2 = \u001b[43mPyPDF2\u001b[49m\u001b[43m.\u001b[49m\u001b[43mPdfReader\u001b[49m\u001b[43m(\u001b[49m\u001b[43mmyfile2\u001b[49m\u001b[43m)\u001b[49m\n",
      "\u001b[36mFile \u001b[39m\u001b[32m/usr/local/lib/python3.11/site-packages/PyPDF2/_reader.py:319\u001b[39m, in \u001b[36mPdfReader.__init__\u001b[39m\u001b[34m(self, stream, strict, password)\u001b[39m\n\u001b[32m    317\u001b[39m     \u001b[38;5;28;01mwith\u001b[39;00m \u001b[38;5;28mopen\u001b[39m(stream, \u001b[33m\"\u001b[39m\u001b[33mrb\u001b[39m\u001b[33m\"\u001b[39m) \u001b[38;5;28;01mas\u001b[39;00m fh:\n\u001b[32m    318\u001b[39m         stream = BytesIO(fh.read())\n\u001b[32m--> \u001b[39m\u001b[32m319\u001b[39m \u001b[38;5;28;43mself\u001b[39;49m\u001b[43m.\u001b[49m\u001b[43mread\u001b[49m\u001b[43m(\u001b[49m\u001b[43mstream\u001b[49m\u001b[43m)\u001b[49m\n\u001b[32m    320\u001b[39m \u001b[38;5;28mself\u001b[39m.stream = stream\n\u001b[32m    322\u001b[39m \u001b[38;5;28mself\u001b[39m._override_encryption = \u001b[38;5;28;01mFalse\u001b[39;00m\n",
      "\u001b[36mFile \u001b[39m\u001b[32m/usr/local/lib/python3.11/site-packages/PyPDF2/_reader.py:1415\u001b[39m, in \u001b[36mPdfReader.read\u001b[39m\u001b[34m(self, stream)\u001b[39m\n\u001b[32m   1413\u001b[39m \u001b[38;5;28;01mdef\u001b[39;00m\u001b[38;5;250m \u001b[39m\u001b[34mread\u001b[39m(\u001b[38;5;28mself\u001b[39m, stream: StreamType) -> \u001b[38;5;28;01mNone\u001b[39;00m:\n\u001b[32m   1414\u001b[39m     \u001b[38;5;28mself\u001b[39m._basic_validation(stream)\n\u001b[32m-> \u001b[39m\u001b[32m1415\u001b[39m     \u001b[38;5;28;43mself\u001b[39;49m\u001b[43m.\u001b[49m\u001b[43m_find_eof_marker\u001b[49m\u001b[43m(\u001b[49m\u001b[43mstream\u001b[49m\u001b[43m)\u001b[49m\n\u001b[32m   1416\u001b[39m     startxref = \u001b[38;5;28mself\u001b[39m._find_startxref_pos(stream)\n\u001b[32m   1418\u001b[39m     \u001b[38;5;66;03m# check and eventually correct the startxref only in not strict\u001b[39;00m\n",
      "\u001b[36mFile \u001b[39m\u001b[32m/usr/local/lib/python3.11/site-packages/PyPDF2/_reader.py:1471\u001b[39m, in \u001b[36mPdfReader._find_eof_marker\u001b[39m\u001b[34m(self, stream)\u001b[39m\n\u001b[32m   1469\u001b[39m \u001b[38;5;28;01mwhile\u001b[39;00m line[:\u001b[32m5\u001b[39m] != \u001b[33mb\u001b[39m\u001b[33m\"\u001b[39m\u001b[38;5;132;01m%%\u001b[39;00m\u001b[33mEOF\u001b[39m\u001b[33m\"\u001b[39m:\n\u001b[32m   1470\u001b[39m     \u001b[38;5;28;01mif\u001b[39;00m stream.tell() < last_mb:\n\u001b[32m-> \u001b[39m\u001b[32m1471\u001b[39m         \u001b[38;5;28;01mraise\u001b[39;00m PdfReadError(\u001b[33m\"\u001b[39m\u001b[33mEOF marker not found\u001b[39m\u001b[33m\"\u001b[39m)\n\u001b[32m   1472\u001b[39m     line = read_previous_line(stream)\n",
      "\u001b[31mPdfReadError\u001b[39m: EOF marker not found"
     ]
    }
   ],
   "source": [
    "pdf_reader2 = PyPDF2.PdfReader(myfile2)"
   ]
  },
  {
   "cell_type": "code",
   "execution_count": null,
   "metadata": {},
   "outputs": [],
   "source": []
  }
 ],
 "metadata": {
  "kernelspec": {
   "display_name": "Python 3",
   "language": "python",
   "name": "python3"
  },
  "language_info": {
   "codemirror_mode": {
    "name": "ipython",
    "version": 3
   },
   "file_extension": ".py",
   "mimetype": "text/x-python",
   "name": "python",
   "nbconvert_exporter": "python",
   "pygments_lexer": "ipython3",
   "version": "3.11.11"
  }
 },
 "nbformat": 4,
 "nbformat_minor": 2
}
