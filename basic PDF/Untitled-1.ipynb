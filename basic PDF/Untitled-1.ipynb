{
 "cells": [
  {
   "cell_type": "code",
   "execution_count": 1,
   "metadata": {},
   "outputs": [
    {
     "name": "stdout",
     "output_type": "stream",
     "text": [
      "['It', 'originated', 'from', 'the', 'idea', 'that', 'there', 'are', 'readers', 'who', 'prefer', 'learning', 'new', 'skills', 'from', 'the', 'comforts', 'of', 'their', 'drawing', 'rooms']\n"
     ]
    }
   ],
   "source": [
    "import nltk \n",
    "word_data = \"It originated from the idea that there are readers who prefer learning new skills from the comforts of their drawing rooms\"\n",
    "nltk_tokens = nltk.word_tokenize(word_data)\n",
    "print(nltk_tokens)"
   ]
  },
  {
   "cell_type": "code",
   "execution_count": 5,
   "metadata": {},
   "outputs": [],
   "source": [
    "text_french = \"Bonjour! Comment ça va? J'espère que vous passez une bonne journée.\""
   ]
  },
  {
   "cell_type": "code",
   "execution_count": 8,
   "metadata": {},
   "outputs": [
    {
     "name": "stdout",
     "output_type": "stream",
     "text": [
      "French Word Tokenization: ['Bonjour', '!', 'Comment', 'ça', 'va', '?', \"J'espère\", 'que', 'vous', 'passez', 'une', 'bonne', 'journée', '.']\n"
     ]
    }
   ],
   "source": [
    "words_french = nltk.word_tokenize(text_french)\n",
    "print(\"French Word Tokenization:\", words_french)"
   ]
  },
  {
   "cell_type": "code",
   "execution_count": 9,
   "metadata": {},
   "outputs": [],
   "source": [
    "social_media_text = \"OMG 😱! Can't believe this happened! #Shocking #Viral @user123 Check this out: https://t.co/example\""
   ]
  },
  {
   "cell_type": "code",
   "execution_count": 10,
   "metadata": {},
   "outputs": [
    {
     "name": "stdout",
     "output_type": "stream",
     "text": [
      "Standard Word Tokenization: ['OMG', '😱', '!', 'Ca', \"n't\", 'believe', 'this', 'happened', '!', '#', 'Shocking', '#', 'Viral', '@', 'user123', 'Check', 'this', 'out', ':', 'https', ':', '//t.co/example']\n"
     ]
    }
   ],
   "source": [
    "words_standard = nltk.word_tokenize(social_media_text)\n",
    "print(\"Standard Word Tokenization:\", words_standard)"
   ]
  },
  {
   "cell_type": "code",
   "execution_count": 11,
   "metadata": {},
   "outputs": [
    {
     "name": "stdout",
     "output_type": "stream",
     "text": [
      "Tweet Tokenization: ['OMG', '😱', '!', \"Can't\", 'believe', 'this', 'happened', '!', '#Shocking', '#Viral', '@user123', 'Check', 'this', 'out', ':', 'https://t.co/example']\n"
     ]
    }
   ],
   "source": [
    "tweet_tokenizer = nltk.TweetTokenizer()\n",
    "words_tweet = tweet_tokenizer.tokenize(social_media_text)\n",
    "print(\"Tweet Tokenization:\", words_tweet)"
   ]
  },
  {
   "cell_type": "code",
   "execution_count": null,
   "metadata": {},
   "outputs": [],
   "source": [
    "import re\n",
    "\n",
    "def split_into_words(text):\n",
    "    # Pattern explanation:\n",
    "    # \\w+ matches one or more word characters (letters, digits, or underscore)\n",
    "    # The split will happen at non-word characters (punctuation, spaces, etc.)\n",
    "    words = re.findall(r'\\w+', text)\n",
    "    return words\n",
    "\n",
    "# Test the function\n",
    "text = \"Hello, world! How are you? Testing... 1,2,3\"\n",
    "word_list = split_into_words(text)\n",
    "print(word_list)\n",
    "# Output: ['Hello', 'world', 'How', 'are', 'you', 'Testing', '1', '2', '3']"
   ]
  }
 ],
 "metadata": {
  "kernelspec": {
   "display_name": ".venv",
   "language": "python",
   "name": "python3"
  },
  "language_info": {
   "codemirror_mode": {
    "name": "ipython",
    "version": 3
   },
   "file_extension": ".py",
   "mimetype": "text/x-python",
   "name": "python",
   "nbconvert_exporter": "python",
   "pygments_lexer": "ipython3",
   "version": "3.13.1"
  }
 },
 "nbformat": 4,
 "nbformat_minor": 2
}
